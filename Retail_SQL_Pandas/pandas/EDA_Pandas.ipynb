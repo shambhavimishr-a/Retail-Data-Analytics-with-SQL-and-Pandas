{
  "nbformat": 4,
  "nbformat_minor": 0,
  "metadata": {
    "colab": {
      "provenance": []
    },
    "kernelspec": {
      "name": "python3",
      "display_name": "Python 3"
    },
    "language_info": {
      "name": "python"
    }
  },
  "cells": [
    {
      "cell_type": "code",
      "execution_count": null,
      "metadata": {
        "colab": {
          "base_uri": "https://localhost:8080/",
          "height": 391
        },
        "id": "aPoC6IHAgfpz",
        "outputId": "44f63dac-eb04-4c55-bb28-31b3fcf039fe"
      },
      "outputs": [
        {
          "output_type": "display_data",
          "data": {
            "text/plain": [
              "<IPython.core.display.HTML object>"
            ],
            "text/html": [
              "\n",
              "     <input type=\"file\" id=\"files-fb68e801-ce79-42cc-b12d-3eada62c8f5e\" name=\"files[]\" multiple disabled\n",
              "        style=\"border:none\" />\n",
              "     <output id=\"result-fb68e801-ce79-42cc-b12d-3eada62c8f5e\">\n",
              "      Upload widget is only available when the cell has been executed in the\n",
              "      current browser session. Please rerun this cell to enable.\n",
              "      </output>\n",
              "      <script>// Copyright 2017 Google LLC\n",
              "//\n",
              "// Licensed under the Apache License, Version 2.0 (the \"License\");\n",
              "// you may not use this file except in compliance with the License.\n",
              "// You may obtain a copy of the License at\n",
              "//\n",
              "//      http://www.apache.org/licenses/LICENSE-2.0\n",
              "//\n",
              "// Unless required by applicable law or agreed to in writing, software\n",
              "// distributed under the License is distributed on an \"AS IS\" BASIS,\n",
              "// WITHOUT WARRANTIES OR CONDITIONS OF ANY KIND, either express or implied.\n",
              "// See the License for the specific language governing permissions and\n",
              "// limitations under the License.\n",
              "\n",
              "/**\n",
              " * @fileoverview Helpers for google.colab Python module.\n",
              " */\n",
              "(function(scope) {\n",
              "function span(text, styleAttributes = {}) {\n",
              "  const element = document.createElement('span');\n",
              "  element.textContent = text;\n",
              "  for (const key of Object.keys(styleAttributes)) {\n",
              "    element.style[key] = styleAttributes[key];\n",
              "  }\n",
              "  return element;\n",
              "}\n",
              "\n",
              "// Max number of bytes which will be uploaded at a time.\n",
              "const MAX_PAYLOAD_SIZE = 100 * 1024;\n",
              "\n",
              "function _uploadFiles(inputId, outputId) {\n",
              "  const steps = uploadFilesStep(inputId, outputId);\n",
              "  const outputElement = document.getElementById(outputId);\n",
              "  // Cache steps on the outputElement to make it available for the next call\n",
              "  // to uploadFilesContinue from Python.\n",
              "  outputElement.steps = steps;\n",
              "\n",
              "  return _uploadFilesContinue(outputId);\n",
              "}\n",
              "\n",
              "// This is roughly an async generator (not supported in the browser yet),\n",
              "// where there are multiple asynchronous steps and the Python side is going\n",
              "// to poll for completion of each step.\n",
              "// This uses a Promise to block the python side on completion of each step,\n",
              "// then passes the result of the previous step as the input to the next step.\n",
              "function _uploadFilesContinue(outputId) {\n",
              "  const outputElement = document.getElementById(outputId);\n",
              "  const steps = outputElement.steps;\n",
              "\n",
              "  const next = steps.next(outputElement.lastPromiseValue);\n",
              "  return Promise.resolve(next.value.promise).then((value) => {\n",
              "    // Cache the last promise value to make it available to the next\n",
              "    // step of the generator.\n",
              "    outputElement.lastPromiseValue = value;\n",
              "    return next.value.response;\n",
              "  });\n",
              "}\n",
              "\n",
              "/**\n",
              " * Generator function which is called between each async step of the upload\n",
              " * process.\n",
              " * @param {string} inputId Element ID of the input file picker element.\n",
              " * @param {string} outputId Element ID of the output display.\n",
              " * @return {!Iterable<!Object>} Iterable of next steps.\n",
              " */\n",
              "function* uploadFilesStep(inputId, outputId) {\n",
              "  const inputElement = document.getElementById(inputId);\n",
              "  inputElement.disabled = false;\n",
              "\n",
              "  const outputElement = document.getElementById(outputId);\n",
              "  outputElement.innerHTML = '';\n",
              "\n",
              "  const pickedPromise = new Promise((resolve) => {\n",
              "    inputElement.addEventListener('change', (e) => {\n",
              "      resolve(e.target.files);\n",
              "    });\n",
              "  });\n",
              "\n",
              "  const cancel = document.createElement('button');\n",
              "  inputElement.parentElement.appendChild(cancel);\n",
              "  cancel.textContent = 'Cancel upload';\n",
              "  const cancelPromise = new Promise((resolve) => {\n",
              "    cancel.onclick = () => {\n",
              "      resolve(null);\n",
              "    };\n",
              "  });\n",
              "\n",
              "  // Wait for the user to pick the files.\n",
              "  const files = yield {\n",
              "    promise: Promise.race([pickedPromise, cancelPromise]),\n",
              "    response: {\n",
              "      action: 'starting',\n",
              "    }\n",
              "  };\n",
              "\n",
              "  cancel.remove();\n",
              "\n",
              "  // Disable the input element since further picks are not allowed.\n",
              "  inputElement.disabled = true;\n",
              "\n",
              "  if (!files) {\n",
              "    return {\n",
              "      response: {\n",
              "        action: 'complete',\n",
              "      }\n",
              "    };\n",
              "  }\n",
              "\n",
              "  for (const file of files) {\n",
              "    const li = document.createElement('li');\n",
              "    li.append(span(file.name, {fontWeight: 'bold'}));\n",
              "    li.append(span(\n",
              "        `(${file.type || 'n/a'}) - ${file.size} bytes, ` +\n",
              "        `last modified: ${\n",
              "            file.lastModifiedDate ? file.lastModifiedDate.toLocaleDateString() :\n",
              "                                    'n/a'} - `));\n",
              "    const percent = span('0% done');\n",
              "    li.appendChild(percent);\n",
              "\n",
              "    outputElement.appendChild(li);\n",
              "\n",
              "    const fileDataPromise = new Promise((resolve) => {\n",
              "      const reader = new FileReader();\n",
              "      reader.onload = (e) => {\n",
              "        resolve(e.target.result);\n",
              "      };\n",
              "      reader.readAsArrayBuffer(file);\n",
              "    });\n",
              "    // Wait for the data to be ready.\n",
              "    let fileData = yield {\n",
              "      promise: fileDataPromise,\n",
              "      response: {\n",
              "        action: 'continue',\n",
              "      }\n",
              "    };\n",
              "\n",
              "    // Use a chunked sending to avoid message size limits. See b/62115660.\n",
              "    let position = 0;\n",
              "    do {\n",
              "      const length = Math.min(fileData.byteLength - position, MAX_PAYLOAD_SIZE);\n",
              "      const chunk = new Uint8Array(fileData, position, length);\n",
              "      position += length;\n",
              "\n",
              "      const base64 = btoa(String.fromCharCode.apply(null, chunk));\n",
              "      yield {\n",
              "        response: {\n",
              "          action: 'append',\n",
              "          file: file.name,\n",
              "          data: base64,\n",
              "        },\n",
              "      };\n",
              "\n",
              "      let percentDone = fileData.byteLength === 0 ?\n",
              "          100 :\n",
              "          Math.round((position / fileData.byteLength) * 100);\n",
              "      percent.textContent = `${percentDone}% done`;\n",
              "\n",
              "    } while (position < fileData.byteLength);\n",
              "  }\n",
              "\n",
              "  // All done.\n",
              "  yield {\n",
              "    response: {\n",
              "      action: 'complete',\n",
              "    }\n",
              "  };\n",
              "}\n",
              "\n",
              "scope.google = scope.google || {};\n",
              "scope.google.colab = scope.google.colab || {};\n",
              "scope.google.colab._files = {\n",
              "  _uploadFiles,\n",
              "  _uploadFilesContinue,\n",
              "};\n",
              "})(self);\n",
              "</script> "
            ]
          },
          "metadata": {}
        },
        {
          "output_type": "stream",
          "name": "stdout",
          "text": [
            "Saving categories (1).csv to categories (1) (1).csv\n",
            "Saving customers_20000 (1).csv to customers_20000 (1) (1).csv\n",
            "Saving order_items.csv to order_items (1).csv\n",
            "Saving orders_12000.csv to orders_12000 (1).csv\n",
            "Saving payments.csv to payments (1).csv\n",
            "Saving products_1500_mousefix.csv to products_1500_mousefix (1).csv\n",
            "Saving refunds.csv to refunds (1).csv\n",
            "Saving returns (1).csv to returns (1) (1).csv\n",
            "Saving shipments.csv to shipments (1).csv\n",
            "Saving suppliers.csv to suppliers (1).csv\n"
          ]
        }
      ],
      "source": [
        "from google.colab import files\n",
        "\n",
        "# Upload multiple files\n",
        "uploaded = files.upload()\n"
      ]
    },
    {
      "cell_type": "markdown",
      "source": [
        "import pandas as pd\n",
        "\n",
        "customers = pd.read_csv(\"customers_20000 (1).csv\")\n",
        "orders = pd.read_csv(\"orders_12000.csv\")\n",
        "payments = pd.read_csv(\"payments.csv\")\n",
        "products = pd.read_csv(\"products_1500_mousefix.csv\")\n",
        "refunds = pd.read_csv(\"refunds.csv\")\n",
        "returns = pd.read_csv(\"returns (1).csv\")\n",
        "categories = pd.read_csv(\"categories (1).csv\")\n",
        "order_items = pd.read_csv(\"order_items.csv\")\n",
        "shipments = pd.read_csv(\"shipments.csv\")\n",
        "suppliers = pd.read_csv(\"suppliers.csv\")"
      ],
      "metadata": {
        "id": "conNsbv6gnJ3"
      }
    },
    {
      "cell_type": "code",
      "metadata": {
        "id": "60948f2a"
      },
      "source": [
        "import pandas as pd\n",
        "\n",
        "customers = pd.read_csv(\"customers_20000 (1).csv\")\n",
        "orders = pd.read_csv(\"orders_12000.csv\")\n",
        "payments = pd.read_csv(\"payments.csv\")\n",
        "products = pd.read_csv(\"products_1500_mousefix.csv\")\n",
        "refunds = pd.read_csv(\"refunds.csv\")\n",
        "returns = pd.read_csv(\"returns (1).csv\")\n",
        "categories = pd.read_csv(\"categories (1).csv\")\n",
        "order_items = pd.read_csv(\"order_items.csv\")\n",
        "shipments = pd.read_csv(\"shipments.csv\")\n",
        "suppliers = pd.read_csv(\"suppliers.csv\")"
      ],
      "execution_count": null,
      "outputs": []
    },
    {
      "cell_type": "code",
      "source": [
        "# 1. Preview first 5 customers\n",
        "print(customers.head())"
      ],
      "metadata": {
        "colab": {
          "base_uri": "https://localhost:8080/"
        },
        "id": "HHG_PmsCi07h",
        "outputId": "d4c3b543-74f0-4ebf-929f-3fd1cb67586d"
      },
      "execution_count": null,
      "outputs": [
        {
          "output_type": "stream",
          "name": "stdout",
          "text": [
            "   customer_id customer_code first_name last_name  gender  \\\n",
            "0            1    CUST-00001        Sai    Sharma    Male   \n",
            "1            2    CUST-00002      Aarav      Khan  Female   \n",
            "2            3    CUST-00003       Riya     Reddy    Male   \n",
            "3            4    CUST-00004        Dev       Das   Other   \n",
            "4            5    CUST-00005       Anvi      Iyer    Male   \n",
            "\n",
            "                               email           phone        city state  \\\n",
            "0  sai.sharma.cust-00001@example.com  +91-8321819600       Noida    UP   \n",
            "1  aarav.khan.cust-00002@example.com  +91-7423511615  Coimbatore    TN   \n",
            "2  riya.reddy.cust-00003@example.com  +91-9341316475      Nagpur    MH   \n",
            "3     dev.das.cust-00004@example.com  +91-8503056413       Noida    UP   \n",
            "4   anvi.iyer.cust-00005@example.com  +91-6965328710      Kanpur    UP   \n",
            "\n",
            "  country  postal_code  birth_date            signup_at   segment  is_active  \\\n",
            "0   India       963794  1979-08-13  2023-06-22 22:43:23  Standard      False   \n",
            "1   India       718495  1983-09-24  2023-02-08 20:28:06  Standard       True   \n",
            "2   India       292832  1993-03-18  2024-03-03 05:50:10  Standard       True   \n",
            "3   India       824238  1988-03-25  2024-01-16 10:13:48      Gold       True   \n",
            "4   India       769784  1973-09-17  2023-12-13 17:53:58  Standard       True   \n",
            "\n",
            "   opted_in_marketing  \n",
            "0               False  \n",
            "1               False  \n",
            "2                True  \n",
            "3                True  \n",
            "4                True  \n"
          ]
        }
      ]
    },
    {
      "cell_type": "code",
      "source": [
        "\n",
        "\n",
        "# 2. Filter: customers from Pune\n",
        "customers_pune = customers[customers[\"city\"] == \"Pune\"]\n",
        "print(\"Customers from Pune:\\n\", customers_pune.head())\n"
      ],
      "metadata": {
        "id": "phJ_CxOpkcja",
        "colab": {
          "base_uri": "https://localhost:8080/"
        },
        "outputId": "e9b5d1d0-1f66-420d-93f4-d8b6f759154f"
      },
      "execution_count": 7,
      "outputs": [
        {
          "output_type": "stream",
          "name": "stdout",
          "text": [
            "Customers from Pune:\n",
            "      customer_id customer_code first_name last_name  gender  \\\n",
            "14            15    CUST-00015      Manan      Iyer    Male   \n",
            "20            21    CUST-00021    Krishna    Sharma  Female   \n",
            "73            74    CUST-00074      Ayaan    Pillai  Female   \n",
            "96            97    CUST-00097       Anvi     Reddy  Female   \n",
            "120          121    CUST-00121       Diya     Reddy  Female   \n",
            "\n",
            "                                     email           phone  city state  \\\n",
            "14       manan.iyer.cust-00015@example.com  +91-9524278680  Pune    MH   \n",
            "20   krishna.sharma.cust-00021@example.com  +91-8791769367  Pune    MH   \n",
            "73     ayaan.pillai.cust-00074@example.com  +91-8755719285  Pune    MH   \n",
            "96       anvi.reddy.cust-00097@example.com  +91-8843959953  Pune    MH   \n",
            "120      diya.reddy.cust-00121@example.com  +91-7849825449  Pune    MH   \n",
            "\n",
            "    country  postal_code  birth_date            signup_at   segment  \\\n",
            "14    India       698262  1966-10-01  2023-12-06 15:24:52  Platinum   \n",
            "20    India       263287  1981-11-20  2023-11-05 21:12:17      Gold   \n",
            "73    India       378681  1988-03-15  2023-09-23 20:30:40  Standard   \n",
            "96    India       992687  1972-11-07  2024-12-13 19:14:13  Standard   \n",
            "120   India       704223  2006-02-24  2023-04-09 16:29:04      Gold   \n",
            "\n",
            "     is_active  opted_in_marketing  \n",
            "14        True                True  \n",
            "20       False                True  \n",
            "73        True               False  \n",
            "96        True               False  \n",
            "120       True                True  \n"
          ]
        }
      ]
    },
    {
      "cell_type": "code",
      "source": [
        "# 3. Sort: top 10 most expensive products\n",
        "top_products = products.sort_values(\"unit_price\", ascending=False).head(10)[\n",
        "    [\"product_id\", \"product_name\", \"category\", \"brand\", \"unit_price\"]\n",
        "]\n",
        "print(\"Top Products:\\n\", top_products)\n"
      ],
      "metadata": {
        "colab": {
          "base_uri": "https://localhost:8080/"
        },
        "id": "9iNuM8u535Hh",
        "outputId": "bf86e242-3a2e-49a7-82f3-e65c77b2e57d"
      },
      "execution_count": 8,
      "outputs": [
        {
          "output_type": "stream",
          "name": "stdout",
          "text": [
            "Top Products:\n",
            "       product_id                product_name   category   brand  unit_price\n",
            "518          519    Dell Max Laptop 64GB/1TB  Computers    Dell    135000.0\n",
            "452          453   Apple Max Laptop 32GB/2TB  Computers   Apple    114180.0\n",
            "1034        1035      Dell S Laptop 32GB/1TB  Computers    Dell    111500.0\n",
            "575          576  Lenovo S Laptop 16GB/256GB  Computers  Lenovo    108730.0\n",
            "525          526    Dell Pro Laptop 16GB/4TB  Computers    Dell    102640.0\n",
            "1397        1398   Dell Prime Laptop 8GB/4TB  Computers    Dell    102470.0\n",
            "1020        1021    Acer Lite Laptop 8GB/2TB  Computers    Acer    100840.0\n",
            "1201        1202    Dell Max Laptop 64GB/4TB  Computers    Dell     99750.0\n",
            "959          960    Dell Mini Laptop 8GB/2TB  Computers    Dell     96500.0\n",
            "343          344   Acer Max Laptop 8GB/256GB  Computers    Acer     94810.0\n"
          ]
        }
      ]
    },
    {
      "cell_type": "code",
      "source": [
        "# 4. Groupby: total payment amount by method\n",
        "payment_totals = (\n",
        "    payments.groupby(\"method\")[\"amount\"]\n",
        "    .sum()\n",
        "    .reset_index()\n",
        "    .sort_values(\"amount\", ascending=False)\n",
        "    )\n",
        "#print(\"Payment Totals by Method:\\n\", payment_totals)\n",
        "\n",
        "payment_totals[\"amount\"] = payment_totals[\"amount\"].round(2)  # optional rounding\n",
        "payment_totals[\"amount_str\"] = payment_totals[\"amount\"].map(lambda x: f\"{x:,.2f}\")\n",
        "print(payment_totals)"
      ],
      "metadata": {
        "colab": {
          "base_uri": "https://localhost:8080/"
        },
        "id": "cN5bBlM335Vy",
        "outputId": "dfb79c97-cfb2-41fb-be9f-860215f03597"
      },
      "execution_count": 13,
      "outputs": [
        {
          "output_type": "stream",
          "name": "stdout",
          "text": [
            "       method        amount      amount_str\n",
            "3         UPI  2.268688e+08  226,868,771.63\n",
            "1        Card  2.112442e+08  211,244,221.84\n",
            "0         COD  2.088999e+08  208,899,918.77\n",
            "2  NetBanking  2.074141e+08  207,414,093.95\n"
          ]
        }
      ]
    },
    {
      "cell_type": "code",
      "source": [
        "# 5. Groupby with Join: average order value by order status\n",
        "orders = orders.rename(columns={\"status\": \"order_status\"})\n",
        "payments = payments.rename(columns={\"status\": \"payment_status\"})\n",
        "\n",
        "orders_payments = pd.merge(orders, payments, on=\"order_id\", how=\"inner\")\n",
        "\n",
        "avg_order_value = (\n",
        "    orders_payments.groupby(\"order_status\")[\"amount\"]\n",
        "    .mean()\n",
        "    .reset_index()\n",
        "    .rename(columns={\"amount\": \"avg_amount\"})\n",
        ")\n",
        "print(\"Average Order Value by Order Status:\\n\", avg_order_value)"
      ],
      "metadata": {
        "colab": {
          "base_uri": "https://localhost:8080/"
        },
        "id": "wq33nftw35Ys",
        "outputId": "ad43da80-6086-4671-a3d1-6511632bec48"
      },
      "execution_count": 11,
      "outputs": [
        {
          "output_type": "stream",
          "name": "stdout",
          "text": [
            "Average Order Value by Order Status:\n",
            "   order_status    avg_amount\n",
            "0    Cancelled  42593.976835\n",
            "1    Delivered  74037.093752\n",
            "2         Paid  73595.873485\n",
            "3      Pending  45345.185776\n",
            "4      Shipped  75598.044591\n"
          ]
        }
      ]
    },
    {
      "cell_type": "code",
      "source": [
        "date_cols = [\"order_date\", \"created_at\", \"date\", \"order_datetime\"]\n",
        "order_date_col = next((c for c in date_cols if c in orders.columns), None)\n",
        "\n",
        "\n",
        "\n",
        "payments_agg = (\n",
        "    payments.groupby(\"order_id\", as_index=False)\n",
        "    .agg(total_paid=(\"amount\", \"sum\"))\n",
        ")\n",
        "\n",
        "orders_with_payments = orders.merge(payments_agg, on=\"order_id\", how=\"left\")\n",
        "\n",
        "if order_date_col:\n",
        "    orders_with_payments[order_date_col] = pd.to_datetime(orders_with_payments[order_date_col], errors=\"coerce\")\n",
        "\n",
        "orders_customers = orders_with_payments.merge(\n",
        "customers[[\"customer_id\", \"first_name\", \"last_name\", \"email\", \"city\"]],\n",
        "on=\"customer_id\",\n",
        "how=\"left\"\n",
        ")\n"
      ],
      "metadata": {
        "id": "HyoUbWlf35bU"
      },
      "execution_count": 19,
      "outputs": []
    },
    {
      "cell_type": "code",
      "source": [
        "customer_summary = (\n",
        "    orders_customers\n",
        "    .groupby(\"customer_id\", as_index=False)\n",
        "    .agg(\n",
        "        first_name = (\"first_name\", \"first\"),\n",
        "        last_name  = (\"last_name\", \"first\"),\n",
        "        email      = (\"email\", \"first\"),\n",
        "        city       = (\"city\", \"first\"),\n",
        "        total_spend = (\"total_paid\", \"sum\"),                 # lifetime spend (sum of payments linked to their orders)\n",
        "        num_orders  = (\"order_id\", \"nunique\"),               # number of distinct orders\n",
        "        avg_order_value = (\"total_paid\", \"mean\"),           # avg payment per order\n",
        "        last_order_date = (order_date_col, \"max\") if order_date_col else (\"order_id\", \"max\")\n",
        "    )\n",
        ")"
      ],
      "metadata": {
        "id": "N_XeCcK935du"
      },
      "execution_count": 20,
      "outputs": []
    },
    {
      "cell_type": "code",
      "source": [
        "# Fill NaN totals with 0\n",
        "customer_summary[\"total_spend\"] = customer_summary[\"total_spend\"].fillna(0)\n",
        "customer_summary[\"avg_order_value\"] = customer_summary[\"avg_order_value\"].fillna(0)\n"
      ],
      "metadata": {
        "id": "pIarEIoS35gT"
      },
      "execution_count": 21,
      "outputs": []
    },
    {
      "cell_type": "code",
      "source": [
        "customer_summary[\"full_name\"] = customer_summary[\"first_name\"].fillna(\"\") + \" \" + customer_summary[\"last_name\"].fillna(\"\")\n",
        "customer_summary = customer_summary.sort_values(\"total_spend\", ascending=False)\n"
      ],
      "metadata": {
        "id": "RlM__EF735i8"
      },
      "execution_count": 22,
      "outputs": []
    },
    {
      "cell_type": "code",
      "source": [
        "# --- 6. Top 10 customers by lifetime spend ---\n",
        "top10_customers = customer_summary.head(10).copy()\n",
        "\n",
        "\n",
        "top10_customers[\"total_spend\"] = top10_customers[\"total_spend\"].round(2)\n",
        "top10_customers[\"avg_order_value\"] = top10_customers[\"avg_order_value\"].round(2)\n",
        "\n",
        "# Reorder columns\n",
        "cols = [\"customer_id\", \"full_name\", \"email\", \"city\", \"num_orders\", \"total_spend\", \"avg_order_value\", \"last_order_date\"]\n",
        "top10_customers = top10_customers[cols]\n",
        "\n",
        "# --- 7. Output results ---\n",
        "print(\"Top 10 customers by lifetime spend:\")\n",
        "print(top10_customers.to_string(index=False))\n"
      ],
      "metadata": {
        "colab": {
          "base_uri": "https://localhost:8080/"
        },
        "id": "y21idu3M35lZ",
        "outputId": "34f69724-e987-402d-f06f-20d1b9b62b9e"
      },
      "execution_count": 23,
      "outputs": [
        {
          "output_type": "stream",
          "name": "stdout",
          "text": [
            "Top 10 customers by lifetime spend:\n",
            " customer_id       full_name                                  email       city  num_orders  total_spend  avg_order_value     last_order_date\n",
            "       15426    Vihaan Singh    vihaan.singh.cust-15426@example.com     Nagpur           2    699892.22        349946.11 2025-08-08 07:37:35\n",
            "        2274 Aaradhya Chopra aaradhya.chopra.cust-02274@example.com  Bengaluru           4    672508.20        168127.05 2025-01-02 20:32:15\n",
            "       17713 Shrishti Sharma shrishti.sharma.cust-17713@example.com     Howrah           4    671775.30        167943.82 2025-08-02 22:03:22\n",
            "       18653      Anvi Verma      anvi.verma.cust-18653@example.com      Noida           4    656314.29        164078.57 2025-02-21 14:57:11\n",
            "       16567   Krishna Verma   krishna.verma.cust-16567@example.com      Delhi           2    644908.94        322454.47 2025-04-23 02:55:13\n",
            "       18506        Pari Das        pari.das.cust-18506@example.com     Jaipur           3    625538.53        208512.84 2025-08-23 09:12:24\n",
            "       12088  Muhammad Gupta  muhammad.gupta.cust-12088@example.com     Indore           2    614966.56        307483.28 2025-08-28 00:13:22\n",
            "       11251       Ira Ghosh       ira.ghosh.cust-11251@example.com Coimbatore           4    588134.71        147033.68 2025-01-19 20:02:59\n",
            "       12214    Aarav Sharma    aarav.sharma.cust-12214@example.com     Mumbai           3    570065.43        190021.81 2024-12-19 21:32:17\n",
            "        3868      Aarav Khan      aarav.khan.cust-03868@example.com      Delhi           2    552251.80        276125.90 2025-01-18 16:20:07\n"
          ]
        }
      ]
    },
    {
      "cell_type": "code",
      "source": [
        "orders = orders.rename(columns={\"status\": \"order_status\"})\n",
        "payments = payments.rename(columns={\"status\": \"payment_status\"})\n",
        "\n",
        "# --- 3. Aggregate payments (gross spend) ---\n",
        "payments_agg = (\n",
        "    payments.groupby(\"order_id\", as_index=False)\n",
        "    .agg(total_paid=(\"amount\", \"sum\"))\n",
        ")\n",
        "\n",
        "# --- 4. Aggregate refunds ---\n",
        "refunds_agg = (\n",
        "    refunds.groupby(\"order_id\", as_index=False)\n",
        "    .agg(total_refund=(\"refund_amount\", \"sum\"))\n",
        ")\n"
      ],
      "metadata": {
        "id": "1chugAml35oK"
      },
      "execution_count": 24,
      "outputs": []
    },
    {
      "cell_type": "code",
      "source": [
        "# --- 6. Join orders + payments + refunds ---\n",
        "orders_with_money = (\n",
        "    orders\n",
        "    .merge(payments_agg, on=\"order_id\", how=\"left\")\n",
        "    .merge(refunds_agg, on=\"order_id\", how=\"left\")\n",
        ")\n",
        "\n",
        "# Replace NaN with 0\n",
        "orders_with_money[[\"total_paid\", \"total_refund\"]] = orders_with_money[[\"total_paid\", \"total_refund\"]].fillna(0)\n",
        "\n",
        "# Compute net paid\n",
        "orders_with_money[\"net_paid\"] = orders_with_money[\"total_paid\"] - orders_with_money[\"total_refund\"]\n",
        "\n",
        "# --- 7. Join customers ---\n",
        "orders_customers = orders_with_money.merge(\n",
        "    customers[[\"customer_id\", \"first_name\", \"last_name\", \"email\", \"city\"]],\n",
        "    on=\"customer_id\", how=\"left\"\n",
        ")\n",
        "\n",
        "# --- 8. Aggregate per customer ---\n",
        "customer_summary = (\n",
        "    orders_customers\n",
        "    .groupby(\"customer_id\", as_index=False)\n",
        "    .agg(\n",
        "        first_name=(\"first_name\", \"first\"),\n",
        "        last_name=(\"last_name\", \"first\"),\n",
        "        email=(\"email\", \"first\"),\n",
        "        city=(\"city\", \"first\"),\n",
        "        total_spend=(\"net_paid\", \"sum\"),\n",
        "        num_orders=(\"order_id\", \"nunique\"),\n",
        "        avg_order_value=(\"net_paid\", \"mean\")\n",
        "    )\n",
        ")\n",
        "\n",
        "# Fill missing values\n",
        "customer_summary[[\"total_spend\", \"avg_order_value\"]] = customer_summary[[\"total_spend\", \"avg_order_value\"]].fillna(0)\n",
        "\n",
        "# Add full name\n",
        "customer_summary[\"full_name\"] = customer_summary[\"first_name\"].fillna(\"\") + \" \" + customer_summary[\"last_name\"].fillna(\"\")\n",
        "\n",
        "# --- 9. Get Top 10 customers ---\n",
        "top10_customers = customer_summary.sort_values(\"total_spend\", ascending=False).head(10)\n",
        "\n",
        "# --- 10. Bar Chart ---\n",
        "\n",
        "import matplotlib.pyplot as plt\n",
        "\n",
        "\n",
        "plt.figure(figsize=(10,6))\n",
        "plt.bar(top10_customers[\"full_name\"], top10_customers[\"total_spend\"])\n",
        "plt.xticks(rotation=45, ha=\"right\")\n",
        "plt.ylabel(\"Net Spend (₹)\")\n",
        "plt.title(\"Top 10 Customers by Net Spend\")\n",
        "plt.tight_layout()\n",
        "plt.show()"
      ],
      "metadata": {
        "colab": {
          "base_uri": "https://localhost:8080/",
          "height": 607
        },
        "id": "SAnkTdRz35qV",
        "outputId": "b9e05bb2-978b-4539-9909-ffc616b13d0c"
      },
      "execution_count": 26,
      "outputs": [
        {
          "output_type": "display_data",
          "data": {
            "text/plain": [
              "<Figure size 1000x600 with 1 Axes>"
            ],
            "image/png": "[encoded data removed]"
          },
          "metadata": {}
        }
      ]
    },
    {
      "cell_type": "code",
      "source": [],
      "metadata": {
        "id": "SsHSD0ar35st"
      },
      "execution_count": null,
      "outputs": []
    }
  ]
}